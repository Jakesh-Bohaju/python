{
 "cells": [
  {
   "cell_type": "markdown",
   "metadata": {},
   "source": [
    "## Method Overriding\n",
    "<a href=\"https://www.tutorialspoint.com/How-to-override-class-methods-in-Python\">Overriding</a> is the ability of a class to change the implementation of a method provided by one of its ancestors.\n",
    "Overriding is a very important part of OOP since it is the feature that makes inheritance exploit its full power. Through method overriding a class may \"copy\" another class, avoiding duplicated code, and at the same time enhance or customize part of it. Method overriding is thus a strict part of the inheritance mechanism.\n",
    "\n",
    "\n",
    "\n",
    "<a href=\"https://www.studytonight.com/python/method-overriding-in-python\">more</a>"
   ]
  },
  {
   "cell_type": "markdown",
   "metadata": {},
   "source": [
    "* **Example of method override**"
   ]
  },
  {
   "cell_type": "code",
   "execution_count": 1,
   "metadata": {},
   "outputs": [
    {
     "name": "stdout",
     "output_type": "stream",
     "text": [
      "Barking\n"
     ]
    }
   ],
   "source": [
    "class Animal:  \n",
    "    def speak(self):  \n",
    "        print(\"speaking\")  \n",
    "class Dog(Animal):  \n",
    "    def speak(self):  \n",
    "        print(\"Barking\")  \n",
    "d = Dog()  \n",
    "d.speak()  "
   ]
  },
  {
   "cell_type": "markdown",
   "metadata": {},
   "source": [
    "**\\*\\*\\* Note :** \n",
    "\n",
    "\n",
    "* OverLoading: Same method or function with different parameter.\n",
    "\n",
    "* OverRiding: Same method and same parameter means Child class has the same method as of parent class or base class the method can be call by creating the obj of repective class. And must be inheritance"
   ]
  },
  {
   "cell_type": "markdown",
   "metadata": {},
   "source": [
    "## Method Overloading\n",
    "Like other languages (for example method overloading in C++) do, python does not supports method overloading. We may overload the methods but can only use the latest defined method."
   ]
  },
  {
   "cell_type": "code",
   "execution_count": null,
   "metadata": {},
   "outputs": [],
   "source": [
    "def product(a, b): \n",
    "    p = a * b \n",
    "    print(p) \n",
    "      \n",
    "# Second product method \n",
    "# Takes three argument and print their \n",
    "# product \n",
    "def product(a, b, c): \n",
    "    p = a * b*c \n",
    "    print(p) \n",
    "\n",
    "product(1,2,2)"
   ]
  },
  {
   "cell_type": "markdown",
   "metadata": {},
   "source": [
    "However we may use other implementation in python to make the same function work differently i.e. as per the arguments."
   ]
  },
  {
   "cell_type": "code",
   "execution_count": 4,
   "metadata": {},
   "outputs": [
    {
     "name": "stdout",
     "output_type": "stream",
     "text": [
      "11\n",
      "Hi Geeks\n"
     ]
    }
   ],
   "source": [
    "# Function to take multiple arguments \n",
    "def add(datatype, *args): \n",
    "  \n",
    "    # if datatype is int \n",
    "    # initialize answer as 0 \n",
    "    if datatype =='int': \n",
    "        answer = 0\n",
    "          \n",
    "    # if datatype is str \n",
    "    # initialize answer as '' \n",
    "    if datatype =='str': \n",
    "        answer ='' \n",
    "  \n",
    "    # Traverse through the arguments \n",
    "    for x in args: \n",
    "  \n",
    "        # This will do addition if the  \n",
    "        # arguments are int. Or concatenation  \n",
    "        # if the arguments are str \n",
    "        answer = answer + x \n",
    "  \n",
    "    print(answer) \n",
    "  \n",
    "# Integer \n",
    "add('int', 5, 6) \n",
    "  \n",
    "# String \n",
    "add('str', 'Hi ', 'Geeks') "
   ]
  },
  {
   "cell_type": "markdown",
   "metadata": {},
   "source": [
    "##### Difference between Overriding, Overloading and Polymorphism\n",
    "Mainly polymorphism is divided into two parts \n",
    "\n",
    "&emsp;1. Compile time Polymorphism\n",
    "\n",
    "&emsp;2. Runtime polymorphism\n",
    "\n",
    "* compile time polymorphis is occured in compile time. it is happening at the compilation of program.(Overloading is the example of Compile time polymorphism), Overloading means - same method with difference parameter list in the same class. \n",
    "* Runtime polymorphism is happenig in the runtime of program. Overriding is the Runtime Polymorphism- overriding means same method in both super & subclass, subclass method can implements own properties\n",
    "\n",
    "\n",
    "* **Overriding** replaces superclass functionality entirely using an identical method name and parameters and should be annotated.\n",
    "\n",
    "* **Overloading** is when you take an existing method and essentially define it again, but using different parameters which Java sees as a completely different method.\n",
    "\n",
    "* **Polymorphism** is when you extend the base functionality of a superclass. You give some base functionality to the child classes and then the child classes can develop their own behaviors.\n"
   ]
  }
 ],
 "metadata": {
  "kernelspec": {
   "display_name": "Python 3",
   "language": "python",
   "name": "python3"
  },
  "language_info": {
   "codemirror_mode": {
    "name": "ipython",
    "version": 3
   },
   "file_extension": ".py",
   "mimetype": "text/x-python",
   "name": "python",
   "nbconvert_exporter": "python",
   "pygments_lexer": "ipython3",
   "version": "3.7.3"
  }
 },
 "nbformat": 4,
 "nbformat_minor": 2
}
