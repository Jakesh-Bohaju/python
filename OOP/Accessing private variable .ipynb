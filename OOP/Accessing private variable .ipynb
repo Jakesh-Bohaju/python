{
 "cells": [
  {
   "cell_type": "code",
   "execution_count": 6,
   "metadata": {},
   "outputs": [
    {
     "name": "stdout",
     "output_type": "stream",
     "text": [
      "1\n",
      "Python\n",
      "10\n",
      "1\n",
      "Python Core and Advance\n",
      "10\n"
     ]
    }
   ],
   "source": [
    "class Patient():\n",
    "    def __init__(self):\n",
    "        self.__ids = 1\n",
    "        self.__name = \"Python\"\n",
    "        self.__ssn = 10\n",
    "    \n",
    "    def setId(self,ids):\n",
    "        self.__ids = ids\n",
    "    def getId(self):\n",
    "        return self.__ids\n",
    "    def setName(self,name):\n",
    "        self.__name = name\n",
    "    def getName(self):\n",
    "        return self.__name\n",
    "    def setSsn(self,ssn):\n",
    "        self.__ssn=ssn\n",
    "    def getSsn(self):\n",
    "        return self.__ssn\n",
    "p = Patient()\n",
    "\n",
    "#using name mangling\n",
    "print(p._Patient__ids)\n",
    "print(p._Patient__name)\n",
    "print(p._Patient__ssn)\n",
    "\n",
    "\n",
    "#using setter and getter method /  mutator & accessor method\n",
    "p.setId(1)\n",
    "p.setName(\"Python Core and Advance\")\n",
    "p.setSsn(10)\n",
    "print(p.getId())\n",
    "print(p.getName())\n",
    "print(p.getSsn())"
   ]
  },
  {
   "cell_type": "code",
   "execution_count": null,
   "metadata": {},
   "outputs": [],
   "source": []
  }
 ],
 "metadata": {
  "kernelspec": {
   "display_name": "Python 3",
   "language": "python",
   "name": "python3"
  },
  "language_info": {
   "codemirror_mode": {
    "name": "ipython",
    "version": 3
   },
   "file_extension": ".py",
   "mimetype": "text/x-python",
   "name": "python",
   "nbconvert_exporter": "python",
   "pygments_lexer": "ipython3",
   "version": "3.7.4"
  }
 },
 "nbformat": 4,
 "nbformat_minor": 2
}
