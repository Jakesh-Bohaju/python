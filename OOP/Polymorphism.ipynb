{
 "cells": [
  {
   "cell_type": "markdown",
   "metadata": {},
   "source": [
    "## Polymorphism\n",
    "What is Polymorphism : The word polymorphism means having many forms. In programming, polymorphism means same function name (but different signatures) being uses for different types."
   ]
  },
  {
   "cell_type": "markdown",
   "metadata": {},
   "source": [
    "#### Example of inbuilt polymorphic functions :\n",
    "\n"
   ]
  },
  {
   "cell_type": "code",
   "execution_count": 1,
   "metadata": {},
   "outputs": [
    {
     "name": "stdout",
     "output_type": "stream",
     "text": [
      "5\n",
      "3\n"
     ]
    }
   ],
   "source": [
    "print(len(\"geeks\")) \n",
    "print(len([10, 20, 30])) "
   ]
  },
  {
   "cell_type": "markdown",
   "metadata": {},
   "source": [
    "#### Examples of used defined polymorphic functions :\n",
    "\n"
   ]
  },
  {
   "cell_type": "code",
   "execution_count": 2,
   "metadata": {},
   "outputs": [
    {
     "name": "stdout",
     "output_type": "stream",
     "text": [
      "5\n",
      "9\n"
     ]
    }
   ],
   "source": [
    "def add(x, y, z = 0):  \n",
    "    return x + y+z \n",
    "\n",
    "print(add(2, 3)) \n",
    "print(add(2, 3, 4)) "
   ]
  },
  {
   "cell_type": "markdown",
   "metadata": {},
   "source": [
    "#### Example of Polymorphism in Python\n",
    "\n"
   ]
  },
  {
   "cell_type": "code",
   "execution_count": 3,
   "metadata": {},
   "outputs": [
    {
     "name": "stdout",
     "output_type": "stream",
     "text": [
      "xyz from xxx department earns monthly(after tax)  17000.0\n",
      "abc from yyy department earns monthly(after tax)  25500.0\n"
     ]
    }
   ],
   "source": [
    "class Employee:\n",
    "    def salary(self):\n",
    "        name = \"xyz\"\n",
    "        dep = \"xxx\"\n",
    "        salary = 20000\n",
    "        tax = 0.15*salary\n",
    "        netsalary = salary-tax\n",
    "        print(name + \" from \"+dep+ \" department earns monthly(after tax) \",netsalary)\n",
    "class Admin:\n",
    "    def salary(self):\n",
    "        name = \"abc\"\n",
    "        dep = \"yyy\"\n",
    "        salary = 30000\n",
    "        tax = 0.15*salary\n",
    "        netsalary = salary-tax\n",
    "        print(name + \" from \"+dep+ \" department earns monthly(after tax) \",netsalary)\n",
    "\n",
    "\n",
    "obj_emp = Employee()\n",
    "obj_adm = Admin()\n",
    "\n",
    "obj_emp.salary()\n",
    "obj_adm.salary()"
   ]
  },
  {
   "cell_type": "markdown",
   "metadata": {},
   "source": [
    "#### Polymorphism with Abstract Class Methods\n"
   ]
  },
  {
   "cell_type": "code",
   "execution_count": 4,
   "metadata": {},
   "outputs": [
    {
     "name": "stdout",
     "output_type": "stream",
     "text": [
      "100.0\n",
      "200\n"
     ]
    }
   ],
   "source": [
    "from abc import ABC, abstractmethod\n",
    "\n",
    "class Polygon(ABC):\n",
    "    def area(self):\n",
    "        pass\n",
    "\n",
    "class Triang(Polygon):\n",
    "    def area(self):\n",
    "        width = 20\n",
    "        height = 10\n",
    "        area = (width * height) / 2\n",
    "        print(area)\n",
    "\n",
    "class rectang(Polygon):\n",
    "    def area(self):\n",
    "        width = 20\n",
    "        height = 10\n",
    "        area = (width * height)\n",
    "        print(area)\n",
    "\n",
    "\n",
    "TA = Triang()\n",
    "TA.area()\n",
    "\n",
    "RA = rectang()\n",
    "RA.area() "
   ]
  },
  {
   "cell_type": "markdown",
   "metadata": {},
   "source": [
    "## Duck Typing\n",
    "\n",
    "Duck typing gives a programmer the ability to not worry about the type of a class rather perform the required operations.\n",
    "\n",
    "<a href=\"https://www.quora.com/What-is-Duck-typing-in-Python\">Duck Typing</a>"
   ]
  },
  {
   "cell_type": "code",
   "execution_count": null,
   "metadata": {},
   "outputs": [],
   "source": []
  }
 ],
 "metadata": {
  "kernelspec": {
   "display_name": "Python 3",
   "language": "python",
   "name": "python3"
  },
  "language_info": {
   "codemirror_mode": {
    "name": "ipython",
    "version": 3
   },
   "file_extension": ".py",
   "mimetype": "text/x-python",
   "name": "python",
   "nbconvert_exporter": "python",
   "pygments_lexer": "ipython3",
   "version": "3.7.3"
  }
 },
 "nbformat": 4,
 "nbformat_minor": 2
}
