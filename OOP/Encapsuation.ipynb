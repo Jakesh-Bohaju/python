{
 "cells": [
  {
   "cell_type": "markdown",
   "metadata": {},
   "source": [
    "## Encapsulation\n",
    "In an object oriented python program, you can restrict access to methods and variables. This can prevent the data from being modified by accident and is known as encapsulation.  <br>\n",
    "\n",
    "Encapsulation is the packing of data and functions operating on that data into a single component and restricting the access to some of the object’s components.<br>\n",
    "Encapsulation means that the internal representation of an object is generally hidden from view outside of the object’s definition.<br>\n",
    "A class is an example of encapsulation as it encapsulates all the data that is member functions,variables etc.<br>\n",
    "\n",
    "Encapsulation gives you more control over the degree of coupling in your code, it allows a class to change its implementation without affecting other parts of the code."
   ]
  },
  {
   "cell_type": "markdown",
   "metadata": {},
   "source": [
    "### Difference between Abstraction and Encapsulation\n",
    "Abstraction is a mechanism which represent the essential features without including implementation details.<br>\n",
    "Encapsulation: — Information hiding.<br>\n",
    "Abstraction: — Implementation hiding."
   ]
  },
  {
   "cell_type": "markdown",
   "metadata": {},
   "source": [
    "<table style=\"font-size:15px\">\n",
    "<tr>\n",
    "    <th>Type</th><th>Description</th>\n",
    "</tr>\n",
    "<tr>    \n",
    "    <td>public methods</td><td>Accessible from anywhere</td>\n",
    "    </tr>\n",
    "    <tr>\n",
    "<td>private methods</td><td>Accessible only in their own class. starts with two underscores</td>\n",
    "    </tr>\n",
    "    <tr>\n",
    "<td>public variables</td><td>Accessible from anywhere</td>\n",
    "    </tr>\n",
    "    <tr>\n",
    "<td>private variables</td><td>Accesible only in their own class or by a method if defined. starts with two underscores</td>\n",
    "    </tr>\n",
    "</table>"
   ]
  },
  {
   "cell_type": "markdown",
   "metadata": {},
   "source": [
    "### Public\n",
    "Every variable and method that you've seen so far with the exception of the constructors has been public. Public variables and methods can be freely modified and run from anywhere, either inside or outside of the class. To create a public variable or method, don't use any underscores.\n",
    "\n",
    "### Private\n",
    "The private designation only allows a variable or method to be accessed from within its own class or object. You cannot modify the value of a private variable from outside of a class. Private variables and methods are preceded by two underscores. Take a look at the example below.<br>\n",
    "__make = 'Dodge'\n",
    "\n",
    "### Protected\n",
    "Protected variables and methods are very similar to private ones. You probably won't use protected variables or methods very often, but it's still worth knowing what they are. A variable that is protected can only be accessed by its own class and any classes derived from it. That is more a topic for later, but just be aware that if you are using a class as the basis of another one, protected variables may be a good option. Protected variables begin with a single underscore.\n",
    "\n",
    "\n",
    "<a href=\"https://linuxconfig.org/python-encapsulation\">More here</a>\n",
    "<a href=\"https://pythonspot.com/encapsulation/\">More here</a>"
   ]
  },
  {
   "cell_type": "code",
   "execution_count": 2,
   "metadata": {},
   "outputs": [
    {
     "name": "stdout",
     "output_type": "stream",
     "text": [
      "123\n",
      "123\n"
     ]
    }
   ],
   "source": [
    "#simple example\n",
    "class Robot(object):\n",
    "   def __init__(self):\n",
    "      self.a = 123\n",
    "      self._b = 123\n",
    "      self.__c = 123\n",
    "\n",
    "obj = Robot()\n",
    "print(obj.a)\n",
    "print(obj._b)\n",
    "# print(obj.__c)  # obj can not access private variable so it gives error"
   ]
  },
  {
   "cell_type": "markdown",
   "metadata": {},
   "source": [
    "##### Private and public method"
   ]
  },
  {
   "cell_type": "code",
   "execution_count": 3,
   "metadata": {},
   "outputs": [
    {
     "name": "stdout",
     "output_type": "stream",
     "text": [
      "updating software\n",
      "driving\n"
     ]
    }
   ],
   "source": [
    "class Car:\n",
    "\n",
    "    def __init__(self):\n",
    "        self.__updateSoftware()\n",
    "\n",
    "    def drive(self):\n",
    "        print('driving')\n",
    "\n",
    "    def __updateSoftware(self):\n",
    "        print('updating software')\n",
    "\n",
    "redcar = Car()\n",
    "redcar.drive()\n",
    "#redcar.__updateSoftware()  not accesible from object.\n",
    "\n"
   ]
  },
  {
   "cell_type": "markdown",
   "metadata": {},
   "source": [
    "##### Private and public variable"
   ]
  },
  {
   "cell_type": "code",
   "execution_count": 4,
   "metadata": {},
   "outputs": [
    {
     "name": "stdout",
     "output_type": "stream",
     "text": [
      "driving. maxspeed 200\n",
      "driving. maxspeed 200\n"
     ]
    }
   ],
   "source": [
    "class Car:\n",
    "\n",
    "    __maxspeed = 0\n",
    "    __name = \"\"\n",
    "    \n",
    "    def __init__(self):\n",
    "        self.__maxspeed = 200\n",
    "        self.__name = \"Supercar\"\n",
    "    \n",
    "    def drive(self):\n",
    "        print('driving. maxspeed ' + str(self.__maxspeed))\n",
    "\n",
    "redcar = Car()\n",
    "redcar.drive()\n",
    "redcar.__maxspeed = 10  # will not change variable because its private\n",
    "redcar.drive()\n"
   ]
  },
  {
   "cell_type": "markdown",
   "metadata": {},
   "source": [
    "Note: If you want to change the value of a private variable, a setter method is used.  This is simply a method that sets the value of a private variable. \n",
    "\n",
    "### Setters and Getters\n",
    "The interfaces that are used for interacting with encapsulated variables are generally referred to as setter and getter methods because the are used to set and retrieve the values of variables. Because methods exist within a class or object, they are able to access and modify private variables, while you will not be able to do so from outside the class. When you instantiated your mycar object, you essentially used its constructor as an initial setter method. Try writing a set of methods to set and get the value of one of the mycar variables.\n",
    "\n",
    "\n",
    "def set_model(self, new_model):<br>\n",
    "&emsp;self.__model = new_model<br>\n",
    "\n",
    "def get_model(self):<br>\n",
    "\t&emsp;return self.__model"
   ]
  },
  {
   "cell_type": "markdown",
   "metadata": {},
   "source": [
    "#### using setter for change value"
   ]
  },
  {
   "cell_type": "code",
   "execution_count": 5,
   "metadata": {},
   "outputs": [
    {
     "name": "stdout",
     "output_type": "stream",
     "text": [
      "driving. maxspeed 200\n",
      "driving. maxspeed 320\n"
     ]
    }
   ],
   "source": [
    "class Car:\n",
    "\n",
    "    __maxspeed = 0\n",
    "    __name = \"\"\n",
    "    \n",
    "    def __init__(self):\n",
    "        self.__maxspeed = 200\n",
    "        self.__name = \"Supercar\"\n",
    "    \n",
    "    def drive(self):\n",
    "        print('driving. maxspeed ' + str(self.__maxspeed))\n",
    "\n",
    "    def setMaxSpeed(self,speed):\n",
    "        self.__maxspeed = speed\n",
    "\n",
    "redcar = Car()\n",
    "redcar.drive()\n",
    "redcar.setMaxSpeed(320)\n",
    "redcar.drive()"
   ]
  },
  {
   "cell_type": "markdown",
   "metadata": {},
   "source": [
    "##### Example of getter and setter\n"
   ]
  },
  {
   "cell_type": "code",
   "execution_count": 7,
   "metadata": {},
   "outputs": [
    {
     "name": "stdout",
     "output_type": "stream",
     "text": [
      "22\n",
      "23\n"
     ]
    }
   ],
   "source": [
    "class Robot(object):\n",
    "   def __init__(self):\n",
    "      self.__version = 22\n",
    "\n",
    "   def getVersion(self):\n",
    "      print(self.__version)\n",
    "\n",
    "   def setVersion(self, version):\n",
    "      self.__version = version\n",
    "\n",
    "obj = Robot()\n",
    "obj.getVersion()\n",
    "obj.setVersion(23)\n",
    "obj.getVersion()\n",
    "# print(obj.__version)"
   ]
  },
  {
   "cell_type": "code",
   "execution_count": null,
   "metadata": {},
   "outputs": [],
   "source": []
  }
 ],
 "metadata": {
  "kernelspec": {
   "display_name": "Python 3",
   "language": "python",
   "name": "python3"
  },
  "language_info": {
   "codemirror_mode": {
    "name": "ipython",
    "version": 3
   },
   "file_extension": ".py",
   "mimetype": "text/x-python",
   "name": "python",
   "nbconvert_exporter": "python",
   "pygments_lexer": "ipython3",
   "version": "3.7.3"
  }
 },
 "nbformat": 4,
 "nbformat_minor": 2
}
