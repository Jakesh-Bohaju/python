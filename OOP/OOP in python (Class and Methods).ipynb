{
 "cells": [
  {
   "cell_type": "markdown",
   "metadata": {},
   "source": [
    "## OOP in python \n",
    "\n",
    "#### Class\n",
    "Python is an “object-oriented programming language.” This means that almost all the code is implemented using a special construct called classes. Programmers use classes to keep related things together. This is done using the keyword “class,” which is a grouping of object-oriented constructs.<br>\n",
    "\n",
    "#### Object\n",
    "Objects are an encapsulation of variables and functions into a single entity. Objects get their variables and functions from classes. \n",
    "\n",
    "#### Overview of OOP Terminology\n",
    "* Class − A user-defined prototype for an object that defines a set of attributes that characterize any object of the class. The attributes are data members (class variables and instance variables) and methods, accessed via dot notation.\n",
    "\n",
    "* Class variable − A variable that is shared by all instances of a class. Class variables are defined within a class but outside any of the class's methods. Class variables are not used as frequently as instance variables are.\n",
    "\n",
    "* Data member − A class variable or instance variable that holds data associated with a class and its objects.\n",
    "\n",
    "* Function overloading − The assignment of more than one behavior to a particular function. The operation performed varies by the types of objects or arguments involved.\n",
    "\n",
    "* Instance variable − A variable that is defined inside a method and belongs only to the current instance of a class.\n",
    "\n",
    "* Inheritance − The transfer of the characteristics of a class to other classes that are derived from it.\n",
    "\n",
    "* Instance − An individual object of a certain class. An object obj that belongs to a class Circle, for example, is an instance of the class Circle.\n",
    "\n",
    "* Instantiation − The creation of an instance of a class.\n",
    "\n",
    "* Method − A special kind of function that is defined in a class definition.\n",
    "\n",
    "* Object − A unique instance of a data structure that's defined by its class. An object comprises both data members (class variables and instance variables) and methods.\n",
    "\n",
    "* Operator overloading − The assignment of more than one function to a particular operator.\n",
    "\n",
    "\n",
    "For more visit the links<br>\n",
    "<a href=\"https://www.hackerearth.com/practice/python/object-oriented-programming/classes-and-objects-i/tutorial/\">1</a>\n",
    "<a href=\"https://www.tutorialspoint.com/python/python_classes_objects.htm\">2</a>\n",
    "<a href=\"https://www.programiz.com/python-programming/class\">3</a>\n",
    "<a href=\"https://www.learnpython.org/en/Classes_and_Objects\">4</a>"
   ]
  },
  {
   "cell_type": "code",
   "execution_count": 5,
   "metadata": {},
   "outputs": [
    {
     "name": "stdout",
     "output_type": "stream",
     "text": [
      "blah\n",
      "yackity\n",
      "This is a message inside the class.\n"
     ]
    }
   ],
   "source": [
    "class MyClass:\n",
    "    variable = \"blah\"\n",
    "\n",
    "    def function(self):\n",
    "        print(\"This is a message inside the class.\")\n",
    "\n",
    "myobjectx = MyClass()\n",
    "#accessing object variable\n",
    "print(myobjectx.variable)\n",
    "\n",
    "#can create multiple different object from same class and assign the value\n",
    "myobjecty = MyClass()\n",
    "myobjecty.variable = \"yackity\"\n",
    "print(myobjecty.variable)\n",
    "\n",
    "#accessing object function/method\n",
    "myobjectx.function()\n"
   ]
  },
  {
   "cell_type": "markdown",
   "metadata": {},
   "source": [
    "### Instance attributes in python and the init method\n",
    "You can also provide the values for the attributes at runtime. This is done by defining the attributes inside the init method."
   ]
  },
  {
   "cell_type": "code",
   "execution_count": 6,
   "metadata": {},
   "outputs": [
    {
     "name": "stdout",
     "output_type": "stream",
     "text": [
      "python\n",
      "anaconda\n"
     ]
    }
   ],
   "source": [
    "class Snake:\n",
    "\n",
    "    def __init__(self, name):\n",
    "        self.name = name\n",
    "\n",
    "    def change_name(self, new_name):\n",
    "        self.name = new_name\n",
    "        \n",
    "# two variables are instantiated\n",
    "python = Snake(\"python\")\n",
    "anaconda = Snake(\"anaconda\")\n",
    "# print the names of the two variables\n",
    "print(python.name)\n",
    "print(anaconda.name)"
   ]
  },
  {
   "cell_type": "markdown",
   "metadata": {},
   "source": [
    "## Built-In Class Attributes\n",
    "Every Python class keeps following built-in attributes and they can be accessed using dot operator like any other attribute −\n",
    "\n",
    "* \\_\\_dict__ − Dictionary containing the class's namespace.\n",
    "\n",
    "* \\_\\_doc__ − Class documentation string or none, if undefined.\n",
    "\n",
    "* \\_\\_name__ − Class name.\n",
    "\n",
    "* \\_\\_module__ − Module name in which the class is defined. This attribute is \"__main__\" in interactive mode.\n",
    "\n",
    "* \\_\\_bases__ − A possibly empty tuple containing the base classes, in the order of their occurrence in the base class list."
   ]
  },
  {
   "cell_type": "code",
   "execution_count": null,
   "metadata": {},
   "outputs": [],
   "source": []
  }
 ],
 "metadata": {
  "kernelspec": {
   "display_name": "Python 3",
   "language": "python",
   "name": "python3"
  },
  "language_info": {
   "codemirror_mode": {
    "name": "ipython",
    "version": 3
   },
   "file_extension": ".py",
   "mimetype": "text/x-python",
   "name": "python",
   "nbconvert_exporter": "python",
   "pygments_lexer": "ipython3",
   "version": "3.7.3"
  }
 },
 "nbformat": 4,
 "nbformat_minor": 2
}
