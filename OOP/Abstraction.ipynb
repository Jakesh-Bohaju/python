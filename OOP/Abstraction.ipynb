{
 "cells": [
  {
   "cell_type": "markdown",
   "metadata": {},
   "source": [
    "## Abstraction\n",
    "Abstraction means hiding the complexity and only showing the essential features of the object. So in a way, Abstraction means hiding the real implementation and we, as a user, knowing only how to use it.\n",
    "\n",
    "Real world example would be a vehicle which we drive with out caring or knowing what all is going underneath.\n",
    "\n",
    "### Abstraction in Python<br>\n",
    "Abstraction in Python is achieved by using abstract classes and interfaces.\n",
    "\n",
    "An abstract class is a class that generally provides incomplete functionality and contains one or more abstract methods. Abstract methods are the methods that generally don’t have any implementation, it is left to the sub classes to provide implementation for the abstract methods.\n",
    "\n",
    "\n",
    "An interface should just provide the method names without method bodies. Subclasses should provide implementation for all the methods defined in an interface. Note that in Python there is no support for creating interfaces explicitly, you will have to use abstract class. In Python you can create an interface using abstract class. If you create an abstract class which contains only abstract methods that acts as an interface in Python."
   ]
  },
  {
   "cell_type": "code",
   "execution_count": 1,
   "metadata": {},
   "outputs": [
    {
     "name": "stdout",
     "output_type": "stream",
     "text": [
      "Credit card payment of-  100\n",
      "Purchase of amount-  100\n",
      "True\n",
      "Mobile wallet payment of-  200\n",
      "Purchase of amount-  200\n",
      "True\n"
     ]
    }
   ],
   "source": [
    "from abc import ABC, abstractmethod\n",
    "class Payment(ABC):\n",
    "    def print_slip(self, amount):\n",
    "        print('Purchase of amount- ', amount)\n",
    "    @abstractmethod\n",
    "    def payment(self, amount):\n",
    "        pass\n",
    "\n",
    "class CreditCardPayment(Payment):\n",
    "    def payment(self, amount):\n",
    "        print('Credit card payment of- ', amount)\n",
    "\n",
    "class MobileWalletPayment(Payment):\n",
    "    def payment(self, amount):\n",
    "        print('Mobile wallet payment of- ', amount)\n",
    "\n",
    "obj = CreditCardPayment()\n",
    "obj.payment(100)\n",
    "obj.print_slip(100)\n",
    "print(isinstance(obj, Payment))\n",
    "obj = MobileWalletPayment()\n",
    "obj.payment(200)\n",
    "obj.print_slip(200)\n",
    "print(isinstance(obj, Payment))"
   ]
  },
  {
   "cell_type": "markdown",
   "metadata": {},
   "source": [
    "## Abstract Classes in Python<br>\n",
    "An abstract class can be considered as a blueprint for other classes, allows you to create a set of methods that must be created within any child classes built from your abstract class. A class which contains one or more abstract methods is called an abstract class. An abstract method is a method that has declaration but not has any implementation. Abstract classes are not able to instantiated and it needs subclasses to provide implementations for those abstract methods which are defined in abstract classes. While we are designing large functional units we use an abstract class. When we want to provide a common implemented functionality for all implementations of a component, we use an abstract class. Abstract classes allow partially to implement classes when it completely implements all methods in a class, then it is called interface.\n",
    " \n",
    "### Why use Abstract Base Classes : <br>\n",
    "Abstract classes allow you to provide default functionality for the subclasses. Compared to interfaces abstract classes can have an implementation. By defining an abstract base class, you can define a common Application Program Interface(API) for a set of subclasses. This capability is especially useful in situations where a third-party is going to provide implementations, such as with plugins in an application, but can also help you when working on a large team or with a large code-base where keeping all classes in your head at the same time is difficult or not possible.\n",
    " \n",
    "### How Abstract Base classes work :<br>\n",
    "In python by default, it is not able to provide abstract classes, but python comes up with a module which provides the base for defining Abstract Base classes(ABC) and that module name is ABC. ABC works by marking methods of the base class as abstract and then registering concrete classes as implementations of the abstract base. A method becomes an abstract by decorated it with a keyword @abstractmethod. "
   ]
  },
  {
   "cell_type": "markdown",
   "metadata": {},
   "source": [
    "###### Note\n",
    "for abstract class must import<br>\n",
    "from abc import ABC, abstractmethod"
   ]
  },
  {
   "cell_type": "code",
   "execution_count": 11,
   "metadata": {},
   "outputs": [
    {
     "name": "stdout",
     "output_type": "stream",
     "text": [
      "First abstract method from class B\n",
      "Second abstract method from class B\n",
      "First abstract method from class C\n",
      "Second abstract method from class D\n"
     ]
    }
   ],
   "source": [
    "from abc import ABC, abstractmethod\n",
    "\n",
    "#creating abstract class\n",
    "class A(ABC):\n",
    "#     def __init__(self, value):\n",
    "#         self.value = value\n",
    "    @abstractmethod\n",
    "    def test1(self):\n",
    "        pass\n",
    "    @abstractmethod\n",
    "    def test2(self):\n",
    "        pass\n",
    "# using abstract methods, must must both method with inherit abstract class        \n",
    "class B(A):\n",
    "    def test1(self):\n",
    "        print(\"First abstract method from class B\")\n",
    "    def test2(self):\n",
    "        print(\"Second abstract method from class B\")\n",
    "\n",
    "#abstract method can be access using multilevel inheritance of abstract class too\n",
    "class C(A):\n",
    "    def test1(self):\n",
    "        print(\"First abstract method from class C\")\n",
    "class D(C):\n",
    "    def test2(self):\n",
    "        print(\"Second abstract method from class D\")\n",
    "        \n",
    "b = B()\n",
    "b.test1()\n",
    "b.test2()\n",
    "d = D()\n",
    "d.test1() #access test1() from inherit class C\n",
    "d.test2()\n",
    "#cannot create object of class C because class C inherit abstract class but use only one abstract method\n",
    "# c = C()\n",
    "# c.test1()\n"
   ]
  },
  {
   "cell_type": "code",
   "execution_count": null,
   "metadata": {},
   "outputs": [],
   "source": []
  }
 ],
 "metadata": {
  "kernelspec": {
   "display_name": "Python 3",
   "language": "python",
   "name": "python3"
  },
  "language_info": {
   "codemirror_mode": {
    "name": "ipython",
    "version": 3
   },
   "file_extension": ".py",
   "mimetype": "text/x-python",
   "name": "python",
   "nbconvert_exporter": "python",
   "pygments_lexer": "ipython3",
   "version": "3.7.3"
  }
 },
 "nbformat": 4,
 "nbformat_minor": 2
}
