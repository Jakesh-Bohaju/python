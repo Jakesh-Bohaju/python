{
 "cells": [
  {
   "cell_type": "markdown",
   "metadata": {},
   "source": [
    "## Inheritance\n",
    "\n",
    "Inheritance is the capability of one class to derive or inherit the properties from some another class. The benefits of inheritance are:\n",
    "\n",
    "* It represents real-world relationships well.\n",
    "* It provides reusability of a code. We don’t have to write the same code again and again. Also, it allows us to add more features to a class without modifying it.\n",
    "* It is transitive in nature, which means that if class B inherits from another class A, then all the subclasses of B would automatically inherit from class A.\n",
    "\n",
    "\n",
    "**Parent class** is the class being inherited from, also called base class.\n",
    "**Child class** is the class that inherits from another class, also called derived class.\n",
    "\n",
    "In inheritance, the child class acquires the properties and can access all the data members and functions defined in the parent class. A child class can also provide its specific implementation to the functions of the parent class. In this section of the tutorial, we will discuss inheritance in detail.\n",
    "\n",
    "In python, a derived class can inherit base class by just mentioning the base in the bracket after the derived class name.\n",
    "\n",
    "<img src=\"https://static.javatpoint.com/python/images/python-inheritance.png\">\n",
    "\n",
    "##### Python Inheritance Terminologies\n",
    "* Superclass: The class from which attributes and methods will be inherited.\n",
    "* Subclass: The class which inherits the members from superclass.\n",
    "* Method Overriding: Redefining the definitions of methods in subclass which was already defined in superclass."
   ]
  },
  {
   "cell_type": "code",
   "execution_count": 2,
   "metadata": {},
   "outputs": [
    {
     "name": "stdout",
     "output_type": "stream",
     "text": [
      "dog barking\n",
      "Animal Speaking\n"
     ]
    }
   ],
   "source": [
    "class Animal:  \n",
    "    def speak(self):  \n",
    "        print(\"Animal Speaking\")  \n",
    "#child class Dog inherits the base class Animal  \n",
    "class Dog(Animal):  \n",
    "    def bark(self):  \n",
    "        print(\"dog barking\")  \n",
    "d = Dog()  \n",
    "d.bark()  \n",
    "d.speak()  "
   ]
  },
  {
   "cell_type": "markdown",
   "metadata": {},
   "source": [
    "<img src=\"https://static.javatpoint.com/images/core/typesofinheritance.jpg\">\n",
    "<img src=\"https://static.javatpoint.com/images/core/multiple.jpg\">"
   ]
  },
  {
   "cell_type": "markdown",
   "metadata": {},
   "source": [
    "### Simple Inheritance\n",
    "Inheritance can be achieve by passing the parent class as an argument in the class definition of child class."
   ]
  },
  {
   "cell_type": "code",
   "execution_count": 3,
   "metadata": {},
   "outputs": [
    {
     "name": "stdout",
     "output_type": "stream",
     "text": [
      "Mark\n",
      "John\n"
     ]
    }
   ],
   "source": [
    "# Parent class created\n",
    "class Parent:\n",
    "    parentname = \"\"\n",
    "    childname = \"\"\n",
    " \n",
    "    def show_parent(self):\n",
    "        print(self.parentname)\n",
    " \n",
    " \n",
    "# Child class created inherits Parent class\n",
    "class Child(Parent):\n",
    "    def show_child(self):\n",
    "        print(self.childname)\n",
    " \n",
    " \n",
    "ch1 = Child()  # Object of Child class\n",
    "ch1.parentname = \"Mark\"   # Access Parent class attributes\n",
    "ch1.childname = \"John\"\n",
    "ch1.show_parent()   # Access Parent class method\n",
    "ch1.show_child()    # Access Child class method"
   ]
  },
  {
   "cell_type": "markdown",
   "metadata": {},
   "source": [
    "### Hierarchical Inheritance\n",
    "In this type of inheritance two different classes inherit same parent class"
   ]
  },
  {
   "cell_type": "code",
   "execution_count": 4,
   "metadata": {},
   "outputs": [
    {
     "name": "stdout",
     "output_type": "stream",
     "text": [
      "Mark\n",
      "John\n",
      "Samule\n",
      "Riya\n"
     ]
    }
   ],
   "source": [
    "# Parent class created\n",
    "class Parent:\n",
    "    parentname = \"\"\n",
    "    childname = \"\"\n",
    " \n",
    "    def show_parent(self):\n",
    "        print(self.parentname)\n",
    " \n",
    " \n",
    "# Son class inherits Parent class\n",
    "class Son(Parent):\n",
    "    def show_child(self):\n",
    "        print(self.childname)\n",
    " \n",
    " \n",
    "# Daughter class inherits Parent class\n",
    "class Daughter(Parent):\n",
    "    def show_child(self):\n",
    "        print(self.childname)\n",
    " \n",
    " \n",
    "s1 = Son()  # Object of Son class\n",
    "s1.parentname = \"Mark\"\n",
    "s1.childname = \"John\"\n",
    "s1.show_parent()\n",
    "s1.show_child()\n",
    " \n",
    "d1 = Son()  # Object of Daughter class\n",
    "d1.childname = \"Riya\"\n",
    "d1.parentname = \"Samule\"\n",
    "d1.show_parent()\n",
    "d1.show_child()"
   ]
  },
  {
   "cell_type": "markdown",
   "metadata": {},
   "source": [
    "### Multiple Inheritance\n",
    "In multiple inheritance one child class can inherit multiple parent classes."
   ]
  },
  {
   "cell_type": "code",
   "execution_count": 5,
   "metadata": {},
   "outputs": [
    {
     "name": "stdout",
     "output_type": "stream",
     "text": [
      "Father : Mark\n",
      "Mother : Sonia\n"
     ]
    }
   ],
   "source": [
    "# Father class created\n",
    "class Father:\n",
    "    fathername = \"\"\n",
    " \n",
    "    def show_father(self):\n",
    "        print(self.fathername)\n",
    " \n",
    " \n",
    "# Mother class created\n",
    "class Mother:\n",
    "    mothername = \"\"\n",
    " \n",
    "    def show_mother(self):\n",
    "        print(self.mothername)\n",
    " \n",
    " \n",
    "# Son class inherits Father and Mother classes\n",
    "class Son(Father, Mother):\n",
    "    def show_parent(self):\n",
    "        print(\"Father :\", self.fathername)\n",
    "        print(\"Mother :\", self.mothername)\n",
    " \n",
    " \n",
    "s1 = Son()  # Object of Son class\n",
    "s1.fathername = \"Mark\"\n",
    "s1.mothername = \"Sonia\"\n",
    "s1.show_parent()"
   ]
  },
  {
   "cell_type": "markdown",
   "metadata": {},
   "source": [
    "### Multilevel Inheritance\n",
    "In this type of inheritance, a class can inherit from a child class or derived class."
   ]
  },
  {
   "cell_type": "code",
   "execution_count": 6,
   "metadata": {},
   "outputs": [
    {
     "name": "stdout",
     "output_type": "stream",
     "text": [
      "This is our family:\n",
      "Father : Mark\n",
      "Mother : Sonia\n"
     ]
    }
   ],
   "source": [
    "class Family:\n",
    "    def show_family(self):\n",
    "        print(\"This is our family:\")\n",
    " \n",
    " \n",
    "# Father class inherited from Family\n",
    "class Father(Family):\n",
    "    fathername = \"\"\n",
    " \n",
    "    def show_father(self):\n",
    "        print(self.fathername)\n",
    " \n",
    " \n",
    "# Mother class inherited from Family\n",
    "class Mother(Family):\n",
    "    mothername = \"\"\n",
    " \n",
    "    def show_mother(self):\n",
    "        print(self.mothername)\n",
    " \n",
    " \n",
    "# Son class inherited from Father and Mother classes\n",
    "class Son(Father, Mother):\n",
    "    def show_parent(self):\n",
    "        print(\"Father :\", self.fathername)\n",
    "        print(\"Mother :\", self.mothername)\n",
    " \n",
    " \n",
    "s1 = Son()  # Object of Son class\n",
    "s1.fathername = \"Mark\"\n",
    "s1.mothername = \"Sonia\"\n",
    "s1.show_family()\n",
    "s1.show_parent()"
   ]
  },
  {
   "cell_type": "markdown",
   "metadata": {},
   "source": [
    "### Hybrid inheritance\n",
    "This form combines more than one form of inheritance. Basically, it is a blend of more than one type of inheritance.\n",
    "\n",
    "* Note: In below example Child4 arise method resolution order (MRO) error, thus have to follow like a diamond shape\n",
    "\n",
    "<img src=\"https://media.geeksforgeeks.org/wp-content/uploads/220px-diamond_inheritance-svg.png\">"
   ]
  },
  {
   "cell_type": "code",
   "execution_count": 24,
   "metadata": {},
   "outputs": [
    {
     "name": "stdout",
     "output_type": "stream",
     "text": [
      "this is function one of parent2\n"
     ]
    }
   ],
   "source": [
    "class Parent:\n",
    "     def func1(self):\n",
    "         print(\"this is function one\")\n",
    "class Parent2:\n",
    "     def func5(self):\n",
    "         print(\"this is function one of parent2\")\n",
    " \n",
    "class Child(Parent):\n",
    "     def func2(self):\n",
    "         print(\"this is function 2\")\n",
    " \n",
    "class Child1(Parent):\n",
    "     def func3(self):\n",
    "         print(\" this is function 3\")\n",
    " \n",
    "class Child3(Parent2, Child1):\n",
    "     def func4(self):\n",
    "         print(\" this is function 4\")\n",
    "        \n",
    "# # this throw MRO error because must follow in  diamond shape. i.e grandson can not inherit grandfather    \n",
    "# class Child4(Parent, Child3):\n",
    "#     def func6(self):\n",
    "#         print(\"this is child4\")\n",
    " \n",
    "ob = Child3()\n",
    "ob.func5()"
   ]
  },
  {
   "cell_type": "markdown",
   "metadata": {},
   "source": [
    "* **Call Parent Class Constructor from Child Class**"
   ]
  },
  {
   "cell_type": "code",
   "execution_count": 7,
   "metadata": {},
   "outputs": [
    {
     "name": "stdout",
     "output_type": "stream",
     "text": [
      "Mark\n",
      "36\n"
     ]
    }
   ],
   "source": [
    "class Family:\n",
    "    # Parent class constructor\n",
    "    def __init__(self, name):\n",
    "        self.name = name\n",
    " \n",
    " \n",
    "# Father class inherited from Family\n",
    "class Father(Family):\n",
    "    # Child class constructor\n",
    "    def __init__(self, name, age):\n",
    "        #  Parent class constructor called from child class\n",
    "        Family.__init__(self, name)\n",
    "        self.age = age\n",
    " \n",
    " \n",
    "f = Father(\"Mark\", 36)\n",
    "print(f.name)\n",
    "print(f.age)"
   ]
  },
  {
   "cell_type": "markdown",
   "metadata": {},
   "source": [
    "## Method Resolution Order\n",
    "Method Resolution Order(MRO) it denotes the way a programming language resolves a method or attribute. Python supports classes inheriting from other classes. The class being inherited is called the Parent or Superclass, while the class that inherits is called the Child or Subclass. In python, method resolution order defines the order in which the base classes are searched when executing a method. First, the method or attribute is searched within a class and then it follows the order we specified while inheriting. This order is also called Linearization of a class and set of rules are called MRO(Method Resolution Order). While inheriting from another class, the interpreter needs a way to resolve the methods that are being called via an instance. Thus we need the method resolution order. "
   ]
  },
  {
   "cell_type": "markdown",
   "metadata": {},
   "source": [
    "Visit <a href=\"https://www.geeksforgeeks.org/method-resolution-order-in-python-inheritance/\">DLR Algorithm, C3 Linearization Algorithm</a>"
   ]
  },
  {
   "cell_type": "code",
   "execution_count": null,
   "metadata": {},
   "outputs": [],
   "source": []
  }
 ],
 "metadata": {
  "kernelspec": {
   "display_name": "Python 3",
   "language": "python",
   "name": "python3"
  },
  "language_info": {
   "codemirror_mode": {
    "name": "ipython",
    "version": 3
   },
   "file_extension": ".py",
   "mimetype": "text/x-python",
   "name": "python",
   "nbconvert_exporter": "python",
   "pygments_lexer": "ipython3",
   "version": "3.7.3"
  }
 },
 "nbformat": 4,
 "nbformat_minor": 2
}
