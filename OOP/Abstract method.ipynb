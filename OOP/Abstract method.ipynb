{
 "cells": [
  {
   "cell_type": "code",
   "execution_count": 24,
   "metadata": {},
   "outputs": [
    {
     "name": "stdout",
     "output_type": "stream",
     "text": [
      "HP 35RT has scroll service.\n",
      "Price 7500\n",
      "HP Notebook 35RT has click service.\n",
      "Price 7500\n",
      "HP Inspiron-6000 has scroll service.\n",
      "Price 8500\n",
      "Dell Notebook Inspiron-6000 has click service.\n",
      "Price 8500\n"
     ]
    }
   ],
   "source": [
    "from abc import abstractmethod,ABC\n",
    "class TouchScreenLaptop(ABC):\n",
    "    def __init__(self,model,price):\n",
    "        self.model= model\n",
    "        self.price = price\n",
    "    \n",
    "    @abstractmethod\n",
    "    def scroll(self):\n",
    "        pass\n",
    "    @abstractmethod\n",
    "    def click(self):\n",
    "        pass\n",
    "    \n",
    "\n",
    "class Hp(TouchScreenLaptop):\n",
    "    def __init__(self,model,price):\n",
    "        super().__init__(model,price)\n",
    "    \n",
    "    def scroll(self):\n",
    "        print(\"HP\",self.model,\"has scroll service.\\nPrice\",self.price)\n",
    "\n",
    "class Dell(TouchScreenLaptop):\n",
    "    def __init__(self,model,price):\n",
    "        super().__init__(model,price)\n",
    "    \n",
    "    def scroll(self):\n",
    "        print(\"Dell\",self.model,\"has scroll service.\\nPrice\",self.price)\n",
    "        \n",
    "class HPNotebook(Hp):\n",
    "    def __init__(self,model,price):\n",
    "        super().__init__(model,price)\n",
    "    def click(self):\n",
    "        print(\"HP Notebook\",self.model,\"has click service.\\nPrice\",self.price)\n",
    "\n",
    "class DellNotebook(Hp):\n",
    "    def __init__(self,model,price):\n",
    "        super().__init__(model,price)\n",
    "    def click(self):\n",
    "        print(\"Dell Notebook\",self.model,\"has click service.\\nPrice\",self.price)\n",
    "    \n",
    "        \n",
    "h = HPNotebook(\"35RT\",7500)\n",
    "h.scroll()\n",
    "h.click()\n",
    "\n",
    "d = DellNotebook(\"Inspiron-6000\",8500)\n",
    "d.scroll()\n",
    "d.click()"
   ]
  },
  {
   "cell_type": "code",
   "execution_count": null,
   "metadata": {},
   "outputs": [],
   "source": []
  }
 ],
 "metadata": {
  "kernelspec": {
   "display_name": "Python 3",
   "language": "python",
   "name": "python3"
  },
  "language_info": {
   "codemirror_mode": {
    "name": "ipython",
    "version": 3
   },
   "file_extension": ".py",
   "mimetype": "text/x-python",
   "name": "python",
   "nbconvert_exporter": "python",
   "pygments_lexer": "ipython3",
   "version": "3.7.4"
  }
 },
 "nbformat": 4,
 "nbformat_minor": 2
}
