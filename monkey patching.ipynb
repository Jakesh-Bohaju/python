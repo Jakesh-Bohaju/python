{
 "cells": [
  {
   "cell_type": "markdown",
   "metadata": {},
   "source": [
    "## Monkey Patching\n",
    "A MonkeyPatch is a piece of programming code which extends or modifies other code at runtime . That means, it is making changes to a module or class while the program is running. It is not a standard technique for software development. It's simply the dynamic replacement of attributes at runtime. It remains a workaround to solve an acute problem and has clear drawbacks.\n",
    "* a technique used to dynamically update the behavior of a piece of code at run-time\n",
    "\n",
    "#### Why use monkey patching?\n",
    "It allows us to modify or extend the behavior of libraries, modules, classes or methods at runtime without actually modifying the source code.\n",
    "\n",
    "#### When is monkey patching used?\n",
    "Some common applications of monkey patching are:\n",
    "* To extend or modify the behavior of third-party or built-in libraries or methods at runtime without touching the original code.\n",
    "* During testing to mock the behavior of libraries, modules, classes or any objects.\n",
    "* To quickly fix some issues if we do not have the time or resources to roll-out a proper fix to the original software.\n",
    "\n",
    "    <a href=\"https://medium.com/@nagillavenkatesh1234/monkey-patching-in-python-explained-with-examples-25eed0aea505\">More</a>\n",
    "    \n",
    "\n",
    "#### Pros and Cons\n",
    "Like many tools in the programming toolbox, can be used both for good and for bad . Of course monkey patching is useful if you know what you are doing and do not have the time to implement a SOLID solution. But you should never consider this a standard technique and build monkey patch upon monkey patch.\n",
    "\n",
    "This is considered bad because it means that an object's definition does not completely or accurately describe how it actually behaves. Also, it creates a discrepancy between the original source code on disk and the observed behaviour. This can be very confusing when troubleshooting, especially for anyone other than the monkeypatch's author. Monkey patching is therefore a kind of antisocial behaviour.\n",
    "\n"
   ]
  },
  {
   "cell_type": "code",
   "execution_count": null,
   "metadata": {},
   "outputs": [],
   "source": [
    "# monk.py \n",
    "class A: \n",
    "     def func(self): \n",
    "          print(\"func() is being called\")"
   ]
  },
  {
   "cell_type": "markdown",
   "metadata": {},
   "source": [
    "We use above module (monk) in below code and change behavior of func() at run-time by assigning different value."
   ]
  },
  {
   "cell_type": "code",
   "execution_count": null,
   "metadata": {},
   "outputs": [],
   "source": [
    "import monk \n",
    "def monkey_f(self): \n",
    "     print(\"monkey_f() is being called\")\n",
    "   \n",
    "# replacing address of \"func\" with \"monkey_f\" \n",
    "monk.A.func = monkey_f \n",
    "obj = monk.A() \n",
    "  \n",
    "# calling function \"func\" whose address got replaced \n",
    "# with function \"monkey_f()\" \n",
    "obj.func() "
   ]
  },
  {
   "cell_type": "code",
   "execution_count": null,
   "metadata": {},
   "outputs": [],
   "source": []
  }
 ],
 "metadata": {
  "kernelspec": {
   "display_name": "Python 3",
   "language": "python",
   "name": "python3"
  },
  "language_info": {
   "codemirror_mode": {
    "name": "ipython",
    "version": 3
   },
   "file_extension": ".py",
   "mimetype": "text/x-python",
   "name": "python",
   "nbconvert_exporter": "python",
   "pygments_lexer": "ipython3",
   "version": "3.7.3"
  }
 },
 "nbformat": 4,
 "nbformat_minor": 2
}
